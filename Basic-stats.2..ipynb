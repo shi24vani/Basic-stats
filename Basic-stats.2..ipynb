{
  "nbformat": 4,
  "nbformat_minor": 0,
  "metadata": {
    "colab": {
      "provenance": []
    },
    "kernelspec": {
      "name": "python3",
      "display_name": "Python 3"
    },
    "language_info": {
      "name": "python"
    }
  },
  "cells": [
    {
      "cell_type": "code",
      "execution_count": 1,
      "metadata": {
        "id": "dpcX8NH_f380"
      },
      "outputs": [],
      "source": [
        "import numpy as np\n",
        "import scipy.stats as stats\n"
      ]
    },
    {
      "cell_type": "code",
      "source": [
        "data = np.array([1.13, 1.55, 1.43, 0.92, 1.25, 1.36, 1.32, 0.85, 1.07, 1.48, 1.20, 1.33, 1.18, 1.22, 1.29])"
      ],
      "metadata": {
        "id": "-w6KXviFf9ds"
      },
      "execution_count": 2,
      "outputs": []
    },
    {
      "cell_type": "markdown",
      "source": [
        "##A. Build 99% Confidence Interval Using Sample Standard Deviation"
      ],
      "metadata": {
        "id": "7I6BOo2Yir47"
      }
    },
    {
      "cell_type": "code",
      "source": [
        "# Sample statistics\n",
        "n = len(data)\n",
        "sample_mean = np.mean(data)\n",
        "sample_std = np.std(data, ddof=1)  # Sample standard deviation (ddof=1)"
      ],
      "metadata": {
        "id": "Q-MJ59lxf_88"
      },
      "execution_count": 3,
      "outputs": []
    },
    {
      "cell_type": "code",
      "source": [
        "# 99% confidence interval using sample standard deviation (t-distribution)\n",
        "t_critical = stats.t.ppf(0.995, df=n-1)  # Two-tailed t-value for 99% CI and df=n-1\n",
        "margin_of_error_t = t_critical * (sample_std / np.sqrt(n))"
      ],
      "metadata": {
        "id": "vEDs3q5egCG3"
      },
      "execution_count": 4,
      "outputs": []
    },
    {
      "cell_type": "code",
      "source": [
        "ci_t_lower = sample_mean - margin_of_error_t\n",
        "ci_t_upper = sample_mean + margin_of_error_t"
      ],
      "metadata": {
        "id": "Fga2lg3egIZH"
      },
      "execution_count": 5,
      "outputs": []
    },
    {
      "cell_type": "code",
      "source": [
        "print(\"99% Confidence Interval using Sample Standard Deviation:\", (ci_t_lower, ci_t_upper))"
      ],
      "metadata": {
        "colab": {
          "base_uri": "https://localhost:8080/",
          "height": 0
        },
        "id": "fTrixWSdgLqt",
        "outputId": "ebf48ceb-b4f6-4197-baa4-3ea0a38910ed"
      },
      "execution_count": 6,
      "outputs": [
        {
          "output_type": "stream",
          "name": "stdout",
          "text": [
            "99% Confidence Interval using Sample Standard Deviation: (1.0901973384384906, 1.3871359948948425)\n"
          ]
        }
      ]
    },
    {
      "cell_type": "markdown",
      "source": [
        "##B. Build 99% Confidence Interval Using Known Population Standard Deviation"
      ],
      "metadata": {
        "id": "wGv0xokAi0tU"
      }
    },
    {
      "cell_type": "code",
      "source": [
        "# 99% confidence interval using population standard deviation (Z-distribution)\n",
        "pop_std = 0.2  # Given population standard deviation\n",
        "z_critical = stats.norm.ppf(0.995)  # Two-tailed Z-value for 99% CI\n",
        "margin_of_error_z = z_critical * (pop_std / np.sqrt(n))\n"
      ],
      "metadata": {
        "id": "Rnte-2KKgQxa"
      },
      "execution_count": 7,
      "outputs": []
    },
    {
      "cell_type": "code",
      "source": [
        "ci_z_lower = sample_mean - margin_of_error_z\n",
        "ci_z_upper = sample_mean + margin_of_error_z"
      ],
      "metadata": {
        "id": "CuDOQ10JgTuZ"
      },
      "execution_count": 8,
      "outputs": []
    },
    {
      "cell_type": "code",
      "source": [
        "print(\"99% Confidence Interval using Known Population Standard Deviation:\", (ci_z_lower, ci_z_upper))"
      ],
      "metadata": {
        "colab": {
          "base_uri": "https://localhost:8080/",
          "height": 0
        },
        "id": "p8yLj_N7gUoD",
        "outputId": "398442b0-fd15-47ee-edb8-061e1c51b402"
      },
      "execution_count": 9,
      "outputs": [
        {
          "output_type": "stream",
          "name": "stdout",
          "text": [
            "99% Confidence Interval using Known Population Standard Deviation: (1.1056514133957607, 1.3716819199375725)\n"
          ]
        }
      ]
    }
  ]
}